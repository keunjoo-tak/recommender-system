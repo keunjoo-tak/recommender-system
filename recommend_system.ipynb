{
 "cells": [
  {
   "cell_type": "markdown",
   "metadata": {},
   "source": [
    "#### 추천시스템(Recommend System)\n",
    "* 추천 시스템은 크게 두 가지로 구분 가능\n",
    "    - 컨텐츠 기반 필터링\n",
    "    - 협업 필터링\n",
    "* 두 가지를 조합한 hybrid 방식 가능\n",
    "* 컨텐츠 기반 필터링은 지금까지 사용자의 이전 행동과 명시적 피드백을 통해 사용자가 좋아하는 것과 유사한 항목을 추천\n",
    "* 협업 필터링은 사용자와 항목간의 유사성을 동시에 사용해 \n",
    "\n",
    "#### Surprise\n",
    "* 추천 시스템 개발을 위한 라이브러리\n",
    "* 다양한 모델과 데이터 제공\n",
    "* scikit-learn과 유사한 사용 방법"
   ]
  },
  {
   "cell_type": "code",
   "execution_count": null,
   "metadata": {},
   "outputs": [],
   "source": [
    "# Microsoft Visual C++ 14.0 or greater is required\n",
    "\n",
    "from surprise import SVD\n",
    "from surprise import Dataset\n",
    "from surprise.model_selection import cross_validate\n"
   ]
  },
  {
   "cell_type": "code",
   "execution_count": null,
   "metadata": {},
   "outputs": [],
   "source": [
    "data = Dataset.load_builtin('ml-100k', prompt = False)\n",
    "data.raw_ratings[:10] # ['아이디(사용자)', '아이템(영화)', '평점', '????' ]"
   ]
  },
  {
   "cell_type": "code",
   "execution_count": null,
   "metadata": {},
   "outputs": [],
   "source": [
    "model = SVD()\n",
    "cross_validate(model, data, measures=['rmse','mae'], cv = 5, verbose= True)"
   ]
  },
  {
   "cell_type": "markdown",
   "metadata": {},
   "source": [
    "#### 컨텐츠 기반 필터링(Content-based Filtering)\n",
    "* 컨텐츠 기반 필터링은 이전의 행동과 명시적 피드백을 통해 좋아하는 것과 유사한 항목을 추천\n",
    "    * ex) 내가 지금까지 시청한 영화 목록과 다른 사용자의 시청 목록을 비교해 나와 비슷한 취향의 사용자가 시청한 영화를 추천\n",
    "* 유사도를 기반으로 추천\n",
    "* 컨텐츠 기반 필터링은 다음과 같은 장단점이 있음\n",
    "    * 장점\n",
    "        * 많은 수의 사용자를 대상으로 쉽게 확장 가능\n",
    "        * 사용자가 관심을 갖지 않던 상품 추천 가능\n",
    "    * 단점\n",
    "        * 입력 특성을 직접 설계해야 하기 때문에 많은 도메인 지식이 필요\n",
    "        * 사용자의 기존 관심사항을 기반으로만 추천 가능"
   ]
  },
  {
   "cell_type": "code",
   "execution_count": null,
   "metadata": {},
   "outputs": [],
   "source": [
    "import numpy as np\n",
    "from surprise import Dataset"
   ]
  },
  {
   "cell_type": "code",
   "execution_count": null,
   "metadata": {},
   "outputs": [],
   "source": [
    "data = Dataset.load_builtin('ml-100k', prompt=False)\n",
    "raw_data = np.array(data.raw_ratings, dtype=int)\n",
    "\n",
    "raw_data[:,0] -= 1\n",
    "raw_data[:,1] -= 1\n",
    "\n",
    "n_users = np.max(raw_data[:, 0])\n",
    "n_movies = np.max(raw_data[:, 1])\n",
    "\n",
    "shape = (n_users +1, n_movies +1)\n",
    "shape"
   ]
  },
  {
   "cell_type": "code",
   "execution_count": null,
   "metadata": {},
   "outputs": [],
   "source": [
    "adj_matrix = np.ndarray(shape, dtype=int)\n",
    "for user_id, movie_id, rating, time in raw_data:\n",
    "    adj_matrix[user_id][movie_id] = 1.\n",
    "adj_matrix"
   ]
  },
  {
   "cell_type": "code",
   "execution_count": null,
   "metadata": {},
   "outputs": [],
   "source": [
    "my_id, my_vector = 0, adj_matrix[0]\n",
    "best_match, best_match_id, best_match_vector = -1, -1, []\n",
    "\n",
    "for user_id, user_vector in enumerate(adj_matrix):\n",
    "    if my_id != user_id:\n",
    "        similarity = np.dot(my_vector, user_vector)\n",
    "        if similarity > best_match:\n",
    "            best_match = similarity\n",
    "            best_match_id = user_id\n",
    "            best_match_vector = user_vector\n",
    "\n",
    "print('Best Match : {}, Best Match ID : {}'.format(best_match, best_match_id))"
   ]
  },
  {
   "cell_type": "code",
   "execution_count": null,
   "metadata": {},
   "outputs": [],
   "source": [
    "recommend_list = []\n",
    "for i, log in enumerate(zip(my_vector, best_match_vector)):\n",
    "    log1, log2 = log\n",
    "    if log1 < 1. and log2 > 0.:\n",
    "        recommend_list.append(i)\n",
    "\n",
    "print(recommend_list)"
   ]
  },
  {
   "cell_type": "markdown",
   "metadata": {},
   "source": [
    "#### 유클리드 거리를 사용해 추천\n",
    "* 거리가 가까울 수록(값이 작을 수록) 나와 유사한 사용자"
   ]
  },
  {
   "cell_type": "code",
   "execution_count": null,
   "metadata": {},
   "outputs": [],
   "source": [
    "my_id, my_vector = 0, adj_matrix[0]\n",
    "best_match, best_match_id, best_match_vector = 9999, -1, []\n",
    "\n",
    "for user_id, user_vector in enumerate(adj_matrix):\n",
    "    if my_id != user_id:\n",
    "        euclidean_dist = np.sqrt(np.sum(np.square(my_vector - user_vector)))\n",
    "        if euclidean_dist < best_match:\n",
    "            best_match = euclidean_dist\n",
    "            best_match_id = user_id\n",
    "            best_match_vector = user_vector\n",
    "\n",
    "print('Best Match : {}, Best Match ID : {}'.format(best_match, best_match_id))"
   ]
  },
  {
   "cell_type": "code",
   "execution_count": null,
   "metadata": {},
   "outputs": [],
   "source": [
    "recommend_list = []\n",
    "for i, log in enumerate(zip(my_vector, best_match_vector)):\n",
    "    log1, log2 = log\n",
    "    if log1 < 1. and log2 > 0.:\n",
    "        recommend_list.append(i)\n",
    "\n",
    "print(recommend_list)"
   ]
  },
  {
   "cell_type": "markdown",
   "metadata": {},
   "source": [
    "#### 코사인 유사도를 사용해 추천\n",
    "* 두 벡터가 이루고 있는 각을 계산"
   ]
  },
  {
   "cell_type": "code",
   "execution_count": 17,
   "metadata": {},
   "outputs": [],
   "source": [
    "# 코사인 유사도 계산 함수 만들기\n",
    "def compute_cos_similarity(v1, v2):\n",
    "    norm1 = np.sqrt(np.sum(np.square(v1)))\n",
    "    norm2 = np.sqrt(np.sum(np.square(v2)))\n",
    "    dot = np.dot(v1, v2)\n",
    "    return dot / (norm1 * norm2)"
   ]
  },
  {
   "cell_type": "code",
   "execution_count": null,
   "metadata": {},
   "outputs": [],
   "source": [
    "my_id, my_vector = 0, adj_matrix[0]\n",
    "best_match, best_match_id, best_match_vector = -1, -1, []\n",
    "\n",
    "for user_id, user_vector in enumerate(adj_matrix):\n",
    "    if my_id != user_id:\n",
    "        cos_similarity = compute_cos_similarity(my_vector, user_vector)\n",
    "        if cos_similarity > best_match:\n",
    "            best_match = cos_similarity\n",
    "            best_match_id = user_id\n",
    "            best_match_vector = user_vector\n",
    "\n",
    "print('Best Match : {}, Best Match ID : {}'.format(best_match, best_match_id))"
   ]
  },
  {
   "cell_type": "code",
   "execution_count": null,
   "metadata": {},
   "outputs": [],
   "source": [
    "recommend_list = []\n",
    "for i, log in enumerate(zip(my_vector, best_match_vector)):\n",
    "    log1, log2 = log\n",
    "    if log1 < 1. and log2 > 0.:\n",
    "        recommend_list.append(i)\n",
    "\n",
    "print(recommend_list)"
   ]
  },
  {
   "cell_type": "markdown",
   "metadata": {},
   "source": [
    "#### 기존 방법(안봤는지, 봤는지(0,1))에 명시적 피드백(사용자가 평가한 영화 점수)을 추가해 실험"
   ]
  },
  {
   "cell_type": "code",
   "execution_count": null,
   "metadata": {},
   "outputs": [],
   "source": [
    "adj_matrix = np.ndarray(shape, dtype=int)\n",
    "for user_id, movie_id, rating, time in raw_data:\n",
    "    adj_matrix[user_id][movie_id] = rating\n",
    "adj_matrix"
   ]
  },
  {
   "cell_type": "code",
   "execution_count": null,
   "metadata": {},
   "outputs": [],
   "source": [
    "# 유클리디언으로\n",
    "my_id, my_vector = 0, adj_matrix[0]\n",
    "best_match, best_match_id, best_match_vector = 9999, -1, []\n",
    "\n",
    "for user_id, user_vector in enumerate(adj_matrix):\n",
    "    if my_id != user_id:\n",
    "        euclidean_dist = np.sqrt(np.sum(np.square(my_vector - user_vector)))\n",
    "        if euclidean_dist < best_match:\n",
    "            best_match = euclidean_dist\n",
    "            best_match_id = user_id\n",
    "            best_match_vector = user_vector\n",
    "\n",
    "print('Best Match : {}, Best Match ID : {}'.format(best_match, best_match_id))"
   ]
  },
  {
   "cell_type": "code",
   "execution_count": null,
   "metadata": {},
   "outputs": [],
   "source": [
    "# 코사인유사도로\n",
    "my_id, my_vector = 0, adj_matrix[0]\n",
    "best_match, best_match_id, best_match_vector = -1, -1, []\n",
    "\n",
    "for user_id, user_vector in enumerate(adj_matrix):\n",
    "    if my_id != user_id:\n",
    "        cos_similarity = compute_cos_similarity(my_vector, user_vector)\n",
    "        if cos_similarity > best_match:\n",
    "            best_match = cos_similarity\n",
    "            best_match_id = user_id\n",
    "            best_match_vector = user_vector\n",
    "\n",
    "print('Best Match : {}, Best Match ID : {}'.format(best_match, best_match_id))"
   ]
  },
  {
   "cell_type": "markdown",
   "metadata": {},
   "source": [
    "#### 협업 필터링(Collaborative Filtering)\n",
    "* 사용자와 항목의 유사성을 동시에 고려해 추천\n",
    "* 기존에 내 관심사가 아닌 항목이라도 추천 가능\n",
    "* 자동으로 임베딩 학습 가능\n",
    "* 협업 필터링은 다음과 같은 장단점을 갖고 있음\n",
    "    * 장점\n",
    "        * 자동으로 임베딩을 학습하기 때문에 도메인 지식이 필요 없음\n",
    "        * 기존의 관심사가 아니더라도 추천 가능\n",
    "    * 단점\n",
    "        * 학습 과정에 나오지 않은 항목은 임베딩을 만들 수 없음\n",
    "        * 추가 특성을 사용하기 어려움"
   ]
  },
  {
   "cell_type": "code",
   "execution_count": null,
   "metadata": {},
   "outputs": [],
   "source": [
    "from surprise import KNNBasic, SVD, SVDpp, NMF\n",
    "from surprise import Dataset\n",
    "from surprise.model_selection import cross_validate"
   ]
  },
  {
   "cell_type": "code",
   "execution_count": null,
   "metadata": {},
   "outputs": [],
   "source": [
    "data = Dataset.load_builtin('ml-100k', prompt=False)"
   ]
  },
  {
   "cell_type": "code",
   "execution_count": null,
   "metadata": {},
   "outputs": [],
   "source": [
    "# KNN을 사용한 협업 필터링\n",
    "model = KNNBasic()\n",
    "cross_validate(model, data, measures=['rmse','mae'], cv=5, n_jobs=4, verbose=True)"
   ]
  },
  {
   "cell_type": "code",
   "execution_count": null,
   "metadata": {},
   "outputs": [],
   "source": [
    "# SVD를 사용한 협업 필터링\n",
    "model = SVD()\n",
    "cross_validate(model, data, measures=['rmse','mae'], cv=5, n_jobs=4, verbose=True)"
   ]
  },
  {
   "cell_type": "code",
   "execution_count": null,
   "metadata": {},
   "outputs": [],
   "source": [
    "# SVD를 사용한 협업 필터링\n",
    "model = NMF()\n",
    "cross_validate(model, data, measures=['rmse','mae'], cv=5, n_jobs=4, verbose=True)"
   ]
  },
  {
   "cell_type": "code",
   "execution_count": null,
   "metadata": {},
   "outputs": [],
   "source": [
    "# SVD++를 사용한 협업 필터링\n",
    "model = SVDpp()\n",
    "cross_validate(model, data, measures=['rmse','mae'], cv=5, n_jobs=4, verbose=True)"
   ]
  },
  {
   "cell_type": "markdown",
   "metadata": {},
   "source": [
    "#### 하이브리드\n",
    "* 컨텐츠 기반 필터링과 협업 필터링을 조합한 방식\n",
    "* 많은 하이브리드 방식이 존재\n",
    "* 실습에서는 협업 필터링으로 임베딩을 학습하고 컨텐츠 기반 필터링으로 유사도 기반 추천을 수행하는 추천 엔진 개발"
   ]
  },
  {
   "cell_type": "code",
   "execution_count": 8,
   "metadata": {},
   "outputs": [],
   "source": [
    "import numpy as np\n",
    "from sklearn.decomposition import randomized_svd, non_negative_factorization \n",
    "from surprise import Dataset"
   ]
  },
  {
   "cell_type": "code",
   "execution_count": 9,
   "metadata": {},
   "outputs": [
    {
     "data": {
      "text/plain": [
       "(943, 1682)"
      ]
     },
     "execution_count": 9,
     "metadata": {},
     "output_type": "execute_result"
    }
   ],
   "source": [
    "data = Dataset.load_builtin('ml-100k', prompt=False)\n",
    "raw_data = np.array(data.raw_ratings, dtype=int)\n",
    "\n",
    "raw_data[:,0] -= 1\n",
    "raw_data[:,1] -= 1\n",
    "\n",
    "n_users = np.max(raw_data[:, 0])\n",
    "n_movies = np.max(raw_data[:, 1])\n",
    "\n",
    "shape = (n_users +1, n_movies +1)\n",
    "shape"
   ]
  },
  {
   "cell_type": "code",
   "execution_count": 10,
   "metadata": {},
   "outputs": [
    {
     "data": {
      "text/plain": [
       "array([[5, 3, 4, ..., 0, 0, 0],\n",
       "       [4, 0, 0, ..., 0, 0, 0],\n",
       "       [0, 0, 0, ..., 0, 0, 0],\n",
       "       ...,\n",
       "       [5, 0, 0, ..., 0, 0, 0],\n",
       "       [0, 0, 0, ..., 0, 0, 0],\n",
       "       [0, 5, 0, ..., 0, 0, 0]])"
      ]
     },
     "execution_count": 10,
     "metadata": {},
     "output_type": "execute_result"
    }
   ],
   "source": [
    "adj_matrix = np.ndarray(shape, dtype=int)\n",
    "for user_id, movie_id, rating, time in raw_data:\n",
    "    adj_matrix[user_id][movie_id] = rating\n",
    "adj_matrix"
   ]
  },
  {
   "cell_type": "code",
   "execution_count": 11,
   "metadata": {},
   "outputs": [
    {
     "name": "stderr",
     "output_type": "stream",
     "text": [
      "d:\\dev\\git\\recommender-system\\.venv\\lib\\site-packages\\sklearn\\utils\\extmath.py:368: FutureWarning: If 'random_state' is not supplied, the current default is to use 0 as a fixed seed. This will change to  None in version 1.2 leading to non-deterministic results that better reflect nature of the randomized_svd solver. If you want to silence this warning, set 'random_state' to an integer seed or to None explicitly depending if you want your code to be deterministic or not.\n",
      "  warnings.warn(\n"
     ]
    }
   ],
   "source": [
    "U, S, V = randomized_svd(adj_matrix, n_components=2) # U사용자, S특이값벡터 ,V아이템\n",
    "S = np.diag(S)"
   ]
  },
  {
   "cell_type": "code",
   "execution_count": 12,
   "metadata": {},
   "outputs": [
    {
     "name": "stdout",
     "output_type": "stream",
     "text": [
      "(943, 2)\n",
      "(2, 2)\n",
      "(2, 1682)\n"
     ]
    }
   ],
   "source": [
    "print(U.shape)\n",
    "print(S.shape)\n",
    "print(V.shape)"
   ]
  },
  {
   "cell_type": "code",
   "execution_count": 15,
   "metadata": {},
   "outputs": [
    {
     "data": {
      "text/plain": [
       "array([[ 3.91732663e+00,  1.47276644e+00,  7.98261988e-01, ...,\n",
       "         6.24907189e-04,  1.41100852e-02,  1.36545878e-02],\n",
       "       [ 1.85777226e+00,  3.96191175e-01,  5.05705740e-01, ...,\n",
       "         5.38862978e-03,  1.77237914e-03,  5.26968095e-04],\n",
       "       [ 8.94989517e-01,  1.71578497e-01,  2.51738682e-01, ...,\n",
       "         2.92094923e-03,  5.39937171e-04, -1.25733753e-04],\n",
       "       ...,\n",
       "       [ 9.92051955e-01,  2.10814957e-01,  2.70363365e-01, ...,\n",
       "         2.89019297e-03,  9.34221962e-04,  2.66612193e-04],\n",
       "       [ 1.30425401e+00,  5.27669941e-01,  2.50080165e-01, ...,\n",
       "        -4.20677765e-04,  5.30525683e-03,  5.28069948e-03],\n",
       "       [ 2.82999397e+00,  9.70812247e-01,  6.15871694e-01, ...,\n",
       "         2.02091492e-03,  8.67740813e-03,  8.03107892e-03]])"
      ]
     },
     "execution_count": 15,
     "metadata": {},
     "output_type": "execute_result"
    }
   ],
   "source": [
    "# 분해 된걸 다시 결합(복원)\n",
    "np.matmul(np.matmul(U, S), V) "
   ]
  },
  {
   "cell_type": "markdown",
   "metadata": {},
   "source": [
    "* 사용자 기반 추천\n",
    "* 나와 비슷한 취향을 가진 다른 사용자의 행동 추천\n",
    "* 사용자 특징 벡터의 유사도 사용"
   ]
  },
  {
   "cell_type": "code",
   "execution_count": 18,
   "metadata": {},
   "outputs": [
    {
     "name": "stdout",
     "output_type": "stream",
     "text": [
      "Best Match : 0.9999942295956324, Best Match ID : 235\n"
     ]
    }
   ],
   "source": [
    "my_id, my_vector = 0, U[0]\n",
    "best_match, best_match_id, best_match_vector = -1, -1, []\n",
    "\n",
    "for user_id, user_vector in enumerate(U):\n",
    "    if my_id != user_id:\n",
    "        cos_similarity = compute_cos_similarity(my_vector, user_vector)\n",
    "        if cos_similarity > best_match:\n",
    "            best_match = cos_similarity\n",
    "            best_match_id = user_id\n",
    "            best_match_vector = user_vector\n",
    "\n",
    "print('Best Match : {}, Best Match ID : {}'.format(best_match, best_match_id))"
   ]
  },
  {
   "cell_type": "code",
   "execution_count": 20,
   "metadata": {},
   "outputs": [
    {
     "name": "stdout",
     "output_type": "stream",
     "text": [
      "[272, 273, 274, 281, 285, 288, 293, 297, 303, 306, 312, 317, 327, 332, 369, 410, 418, 419, 422, 426, 428, 431, 434, 442, 461, 475, 477, 482, 495, 503, 504, 505, 506, 509, 519, 520, 522, 525, 531, 545, 548, 590, 594, 595, 613, 631, 654, 658, 660, 672, 684, 685, 691, 695, 698, 704, 716, 728, 734, 749, 755, 863, 865, 933, 1012, 1038, 1101, 1327, 1400]\n"
     ]
    }
   ],
   "source": [
    "recommend_list = []\n",
    "for i, log in enumerate(zip(adj_matrix[my_id], adj_matrix[best_match_id])):\n",
    "    log1, log2 = log\n",
    "    if log1 < 1. and log2 > 0.:\n",
    "        recommend_list.append(i)\n",
    "\n",
    "print(recommend_list)"
   ]
  },
  {
   "cell_type": "markdown",
   "metadata": {},
   "source": [
    "* 항목 기반 추천\n",
    "* 내가 본 항목과 비슷한 항목을 추천\n",
    "* 항목 특징 벡터의 유사도 사용"
   ]
  },
  {
   "cell_type": "code",
   "execution_count": 30,
   "metadata": {},
   "outputs": [
    {
     "name": "stdout",
     "output_type": "stream",
     "text": [
      "Best Match : 0.9999999951364145, Best Match ID : 1287\n"
     ]
    }
   ],
   "source": [
    "my_id, my_vector = 0, V.T[0]\n",
    "best_match, best_match_id, best_match_vector = -1, -1, []\n",
    "\n",
    "for user_id, user_vector in enumerate(V.T):\n",
    "    if my_id != user_id:\n",
    "        cos_similarity = compute_cos_similarity(my_vector, user_vector)\n",
    "        if cos_similarity > best_match:\n",
    "            best_match = cos_similarity\n",
    "            best_match_id = user_id\n",
    "            best_match_vector = user_vector\n",
    "\n",
    "print('Best Match : {}, Best Match ID : {}'.format(best_match, best_match_id))"
   ]
  },
  {
   "cell_type": "code",
   "execution_count": 22,
   "metadata": {},
   "outputs": [
    {
     "name": "stdout",
     "output_type": "stream",
     "text": [
      "[0, 1, 4, 5, 9, 12, 14, 15, 16, 17, 19, 20, 22, 24, 25, 37, 40, 41, 42, 43, 44, 48, 53, 55, 56, 57, 58, 61, 62, 63, 64, 65, 66, 69, 71, 72, 74, 76, 78, 80, 81, 82, 83, 88, 91, 92, 93, 94, 95, 96, 98, 100, 101, 105, 107, 108, 116, 119, 120, 123, 124, 127, 129, 130, 133, 136, 137, 140, 143, 144, 147, 149, 150, 156, 157, 159, 161, 167, 173, 176, 177, 180, 181, 183, 188, 192, 193, 197, 198, 199, 200, 201, 202, 203, 208, 209, 212, 215, 221, 222, 229, 230, 231, 233, 234, 241, 242, 243, 245, 246, 247, 248, 249, 250, 251, 252, 253, 255, 261, 262, 264, 267, 270, 273, 274, 275, 276, 278, 279, 285, 286, 288, 289, 290, 291, 292, 293, 294, 295, 296, 297, 298, 300, 302, 304, 306, 307, 310, 311, 312, 313, 319, 321, 323, 324, 325, 326, 329, 330, 331, 335, 337, 338, 339, 342, 343, 344, 346, 347, 349, 356, 358, 359, 362, 364, 370, 373, 377, 378, 379, 380, 386, 387, 388, 389, 392, 393, 394, 395, 397, 398, 400, 401, 402, 405, 406, 410, 411, 415, 416, 418, 421, 423, 424, 428, 431, 433, 434, 437, 440, 444, 446, 449, 453, 454, 455, 456, 457, 458, 459, 462, 464, 466, 467, 469, 470, 471, 477, 478, 482, 483, 485, 486, 487, 489, 492, 493, 494, 496, 499, 502, 504, 507, 511, 513, 516, 517, 520, 522, 524, 525, 531, 532, 533, 534, 535, 536, 539, 540, 541, 544, 547, 548, 549, 551, 552, 553, 559, 560, 561, 566, 568, 575, 576, 578, 579, 581, 587, 591, 592, 596, 598, 601, 604, 605, 608, 609, 611, 612, 613, 617, 619, 620, 621, 623, 629, 631, 633, 634, 635, 636, 641, 642, 647, 648, 649, 652, 653, 654, 656, 657, 659, 660, 662, 663, 664, 668, 673, 675, 676, 677, 678, 679, 681, 683, 688, 689, 690, 691, 696, 697, 698, 700, 702, 704, 705, 707, 708, 709, 713, 714, 715, 720, 722, 725, 726, 729, 730, 732, 734, 737, 741, 743, 744, 745, 746, 747, 748, 750, 755, 756, 758, 760, 762, 763, 766, 767, 768, 769, 770, 772, 776, 778, 784, 785, 787, 788, 789, 791, 792, 793, 794, 795, 797, 799, 803, 804, 805, 806, 814, 816, 820, 821, 822, 825, 828, 829, 830, 834, 837, 838, 842, 846, 851, 853, 863, 864, 866, 867, 869, 871, 878, 879, 880, 881, 882, 884, 885, 886, 888, 889, 891, 892, 893, 894, 895, 896, 898, 900, 901, 902, 906, 909, 912, 915, 916, 917, 918, 920, 921, 922, 923, 926, 928, 929, 931, 932, 933, 934, 935, 937, 940]\n"
     ]
    }
   ],
   "source": [
    "recommend_list = []\n",
    "for i, user_vector in enumerate(adj_matrix):\n",
    "    if adj_matrix[i][my_id] > 0.9 :\n",
    "        recommend_list.append(i)\n",
    "\n",
    "print(recommend_list)"
   ]
  },
  {
   "cell_type": "markdown",
   "metadata": {},
   "source": [
    "* 비음수 행렬 분해를 사용한 하이브리드 추천"
   ]
  },
  {
   "cell_type": "code",
   "execution_count": 32,
   "metadata": {},
   "outputs": [
    {
     "data": {
      "text/plain": [
       "array([[5, 3, 4, ..., 0, 0, 0],\n",
       "       [4, 0, 0, ..., 0, 0, 0],\n",
       "       [0, 0, 0, ..., 0, 0, 0],\n",
       "       ...,\n",
       "       [5, 0, 0, ..., 0, 0, 0],\n",
       "       [0, 0, 0, ..., 0, 0, 0],\n",
       "       [0, 5, 0, ..., 0, 0, 0]])"
      ]
     },
     "execution_count": 32,
     "metadata": {},
     "output_type": "execute_result"
    }
   ],
   "source": [
    "adj_matrix"
   ]
  },
  {
   "cell_type": "code",
   "execution_count": 33,
   "metadata": {},
   "outputs": [
    {
     "name": "stderr",
     "output_type": "stream",
     "text": [
      "d:\\dev\\git\\recommender-system\\.venv\\lib\\site-packages\\sklearn\\decomposition\\_nmf.py:289: FutureWarning: The 'init' value, when 'init=None' and n_components is less than n_samples and n_features, will be changed from 'nndsvd' to 'nndsvda' in 1.1 (renaming of 0.26).\n",
      "  warnings.warn(\n"
     ]
    }
   ],
   "source": [
    "A, B, iter = non_negative_factorization(adj_matrix, n_components= 2)"
   ]
  },
  {
   "cell_type": "code",
   "execution_count": 34,
   "metadata": {},
   "outputs": [
    {
     "data": {
      "text/plain": [
       "array([[3.71108858e+00, 1.48454102e+00, 7.39535363e-01, ...,\n",
       "        3.64490531e-03, 1.45506510e-02, 1.44110916e-02],\n",
       "       [2.11724416e+00, 2.37338725e-01, 5.51650703e-01, ...,\n",
       "        4.76092332e-03, 3.03585167e-05, 0.00000000e+00],\n",
       "       [9.85272360e-01, 1.10447010e-01, 2.56713988e-01, ...,\n",
       "        2.21552443e-03, 1.41275191e-05, 0.00000000e+00],\n",
       "       ...,\n",
       "       [1.04485667e+00, 1.17126289e-01, 2.72238757e-01, ...,\n",
       "        2.34950819e-03, 1.49818804e-05, 0.00000000e+00],\n",
       "       [1.45758857e+00, 5.42112787e-01, 2.99181695e-01, ...,\n",
       "        1.61177659e-03, 5.15921394e-03, 5.10771005e-03],\n",
       "       [2.44733103e+00, 9.41208708e-01, 4.95740038e-01, ...,\n",
       "        2.56992125e-03, 9.08287324e-03, 8.99389282e-03]])"
      ]
     },
     "execution_count": 34,
     "metadata": {},
     "output_type": "execute_result"
    }
   ],
   "source": [
    "np.matmul(A, B)"
   ]
  },
  {
   "cell_type": "markdown",
   "metadata": {},
   "source": [
    "* 사용자 기반 추천"
   ]
  },
  {
   "cell_type": "code",
   "execution_count": 35,
   "metadata": {},
   "outputs": [
    {
     "name": "stdout",
     "output_type": "stream",
     "text": [
      "Best Match : 0.9999942295956324, Best Match ID : 235\n"
     ]
    }
   ],
   "source": [
    "my_id, my_vector = 0, U[0]\n",
    "best_match, best_match_id, best_match_vector = -1, -1, []\n",
    "\n",
    "for user_id, user_vector in enumerate(U):\n",
    "    if my_id != user_id:\n",
    "        cos_similarity = compute_cos_similarity(my_vector, user_vector)\n",
    "        if cos_similarity > best_match:\n",
    "            best_match = cos_similarity\n",
    "            best_match_id = user_id\n",
    "            best_match_vector = user_vector\n",
    "\n",
    "print('Best Match : {}, Best Match ID : {}'.format(best_match, best_match_id))"
   ]
  },
  {
   "cell_type": "code",
   "execution_count": 36,
   "metadata": {},
   "outputs": [
    {
     "name": "stdout",
     "output_type": "stream",
     "text": [
      "[272, 273, 274, 281, 285, 288, 293, 297, 303, 306, 312, 317, 327, 332, 369, 410, 418, 419, 422, 426, 428, 431, 434, 442, 461, 475, 477, 482, 495, 503, 504, 505, 506, 509, 519, 520, 522, 525, 531, 545, 548, 590, 594, 595, 613, 631, 654, 658, 660, 672, 684, 685, 691, 695, 698, 704, 716, 728, 734, 749, 755, 863, 865, 933, 1012, 1038, 1101, 1327, 1400]\n"
     ]
    }
   ],
   "source": [
    "recommend_list = []\n",
    "for i, log in enumerate(zip(adj_matrix[my_id], adj_matrix[best_match_id])):\n",
    "    log1, log2 = log\n",
    "    if log1 < 1. and log2 > 0.:\n",
    "        recommend_list.append(i)\n",
    "\n",
    "print(recommend_list)"
   ]
  },
  {
   "cell_type": "markdown",
   "metadata": {},
   "source": [
    "* 항목 기반 추천"
   ]
  },
  {
   "cell_type": "code",
   "execution_count": 37,
   "metadata": {},
   "outputs": [
    {
     "name": "stdout",
     "output_type": "stream",
     "text": [
      "Best Match : 0.9999999951364145, Best Match ID : 1287\n"
     ]
    }
   ],
   "source": [
    "my_id, my_vector = 0, V.T[0]\n",
    "best_match, best_match_id, best_match_vector = -1, -1, []\n",
    "\n",
    "for user_id, user_vector in enumerate(V.T):\n",
    "    if my_id != user_id:\n",
    "        cos_similarity = compute_cos_similarity(my_vector, user_vector)\n",
    "        if cos_similarity > best_match:\n",
    "            best_match = cos_similarity\n",
    "            best_match_id = user_id\n",
    "            best_match_vector = user_vector\n",
    "\n",
    "print('Best Match : {}, Best Match ID : {}'.format(best_match, best_match_id))"
   ]
  },
  {
   "cell_type": "code",
   "execution_count": 38,
   "metadata": {},
   "outputs": [
    {
     "name": "stdout",
     "output_type": "stream",
     "text": [
      "[0, 1, 4, 5, 9, 12, 14, 15, 16, 17, 19, 20, 22, 24, 25, 37, 40, 41, 42, 43, 44, 48, 53, 55, 56, 57, 58, 61, 62, 63, 64, 65, 66, 69, 71, 72, 74, 76, 78, 80, 81, 82, 83, 88, 91, 92, 93, 94, 95, 96, 98, 100, 101, 105, 107, 108, 116, 119, 120, 123, 124, 127, 129, 130, 133, 136, 137, 140, 143, 144, 147, 149, 150, 156, 157, 159, 161, 167, 173, 176, 177, 180, 181, 183, 188, 192, 193, 197, 198, 199, 200, 201, 202, 203, 208, 209, 212, 215, 221, 222, 229, 230, 231, 233, 234, 241, 242, 243, 245, 246, 247, 248, 249, 250, 251, 252, 253, 255, 261, 262, 264, 267, 270, 273, 274, 275, 276, 278, 279, 285, 286, 288, 289, 290, 291, 292, 293, 294, 295, 296, 297, 298, 300, 302, 304, 306, 307, 310, 311, 312, 313, 319, 321, 323, 324, 325, 326, 329, 330, 331, 335, 337, 338, 339, 342, 343, 344, 346, 347, 349, 356, 358, 359, 362, 364, 370, 373, 377, 378, 379, 380, 386, 387, 388, 389, 392, 393, 394, 395, 397, 398, 400, 401, 402, 405, 406, 410, 411, 415, 416, 418, 421, 423, 424, 428, 431, 433, 434, 437, 440, 444, 446, 449, 453, 454, 455, 456, 457, 458, 459, 462, 464, 466, 467, 469, 470, 471, 477, 478, 482, 483, 485, 486, 487, 489, 492, 493, 494, 496, 499, 502, 504, 507, 511, 513, 516, 517, 520, 522, 524, 525, 531, 532, 533, 534, 535, 536, 539, 540, 541, 544, 547, 548, 549, 551, 552, 553, 559, 560, 561, 566, 568, 575, 576, 578, 579, 581, 587, 591, 592, 596, 598, 601, 604, 605, 608, 609, 611, 612, 613, 617, 619, 620, 621, 623, 629, 631, 633, 634, 635, 636, 641, 642, 647, 648, 649, 652, 653, 654, 656, 657, 659, 660, 662, 663, 664, 668, 673, 675, 676, 677, 678, 679, 681, 683, 688, 689, 690, 691, 696, 697, 698, 700, 702, 704, 705, 707, 708, 709, 713, 714, 715, 720, 722, 725, 726, 729, 730, 732, 734, 737, 741, 743, 744, 745, 746, 747, 748, 750, 755, 756, 758, 760, 762, 763, 766, 767, 768, 769, 770, 772, 776, 778, 784, 785, 787, 788, 789, 791, 792, 793, 794, 795, 797, 799, 803, 804, 805, 806, 814, 816, 820, 821, 822, 825, 828, 829, 830, 834, 837, 838, 842, 846, 851, 853, 863, 864, 866, 867, 869, 871, 878, 879, 880, 881, 882, 884, 885, 886, 888, 889, 891, 892, 893, 894, 895, 896, 898, 900, 901, 902, 906, 909, 912, 915, 916, 917, 918, 920, 921, 922, 923, 926, 928, 929, 931, 932, 933, 934, 935, 937, 940]\n"
     ]
    }
   ],
   "source": [
    "recommend_list = []\n",
    "for i, user_vector in enumerate(adj_matrix):\n",
    "    if adj_matrix[i][my_id] > 0.9 :\n",
    "        recommend_list.append(i)\n",
    "\n",
    "print(recommend_list)"
   ]
  },
  {
   "cell_type": "code",
   "execution_count": null,
   "metadata": {},
   "outputs": [],
   "source": []
  },
  {
   "cell_type": "code",
   "execution_count": null,
   "metadata": {},
   "outputs": [],
   "source": []
  },
  {
   "cell_type": "code",
   "execution_count": null,
   "metadata": {},
   "outputs": [],
   "source": []
  },
  {
   "cell_type": "code",
   "execution_count": null,
   "metadata": {},
   "outputs": [],
   "source": []
  },
  {
   "cell_type": "code",
   "execution_count": null,
   "metadata": {},
   "outputs": [],
   "source": []
  },
  {
   "cell_type": "code",
   "execution_count": null,
   "metadata": {},
   "outputs": [],
   "source": []
  },
  {
   "cell_type": "code",
   "execution_count": null,
   "metadata": {},
   "outputs": [],
   "source": []
  },
  {
   "cell_type": "code",
   "execution_count": null,
   "metadata": {},
   "outputs": [],
   "source": []
  }
 ],
 "metadata": {
  "interpreter": {
   "hash": "6e2005023b83dbbf64ececa044c5ad8a180d54990f102573719e0eafd78b473b"
  },
  "kernelspec": {
   "display_name": "Python 3.8.10 ('.venv': venv)",
   "language": "python",
   "name": "python3"
  },
  "language_info": {
   "name": "python",
   "version": "3.8.10"
  },
  "orig_nbformat": 4
 },
 "nbformat": 4,
 "nbformat_minor": 2
}
